{
 "cells": [
  {
   "cell_type": "markdown",
   "metadata": {},
   "source": [
    "This is a character creator for a simple fight game based on the D20 system in the consol. Coded by Greg Wee"
   ]
  },
  {
   "cell_type": "code",
   "execution_count": null,
   "metadata": {},
   "outputs": [],
   "source": [
    "from random import randint\n",
    "\n",
    "class Character(object):\n",
    "    #these will be modified by the character creation process later.\n",
    "    hp = 0\n",
    "    attack = 0\n",
    "    defense = 0\n",
    "    damage = 0\n",
    "    damage_rand = 0\n",
    "    weapon = \"\"\n",
    "    \n",
    "    def swing_attack(self):\n",
    "        roll = randint(1, 20) + self.attack\n",
    "        return roll\n",
    "    \n",
    "    def swing_damage(self):\n",
    "        roll = randint(1, self.damage_rand) + self.damage"
   ]
  },
  {
   "cell_type": "markdown",
   "metadata": {},
   "source": [
    "Enemies are defined here."
   ]
  },
  {
   "cell_type": "code",
   "execution_count": null,
   "metadata": {},
   "outputs": [],
   "source": []
  },
  {
   "cell_type": "markdown",
   "metadata": {},
   "source": [
    "Here's where the fight scripting is going to occur."
   ]
  },
  {
   "cell_type": "code",
   "execution_count": null,
   "metadata": {},
   "outputs": [],
   "source": []
  }
 ],
 "metadata": {
  "kernelspec": {
   "display_name": "Python 3",
   "language": "python",
   "name": "python3"
  },
  "language_info": {
   "codemirror_mode": {
    "name": "ipython",
    "version": 3
   },
   "file_extension": ".py",
   "mimetype": "text/x-python",
   "name": "python",
   "nbconvert_exporter": "python",
   "pygments_lexer": "ipython3",
   "version": "3.6.4"
  }
 },
 "nbformat": 4,
 "nbformat_minor": 2
}
